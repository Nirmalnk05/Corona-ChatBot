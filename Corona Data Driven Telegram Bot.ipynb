{
 "cells": [
  {
   "cell_type": "markdown",
   "metadata": {},
   "source": [
    "# Data Driven Telegram Bot"
   ]
  },
  {
   "cell_type": "markdown",
   "metadata": {},
   "source": [
    "### Installing Libraries"
   ]
  },
  {
   "cell_type": "code",
   "execution_count": 1,
   "metadata": {},
   "outputs": [],
   "source": [
    "import nltk\n",
    "import numpy as np\n",
    "import string\n",
    "import warnings\n",
    "warnings.filterwarnings(\"ignore\")"
   ]
  },
  {
   "cell_type": "markdown",
   "metadata": {},
   "source": [
    "### Open and Defining  the Corpus"
   ]
  },
  {
   "cell_type": "code",
   "execution_count": 32,
   "metadata": {},
   "outputs": [],
   "source": [
    "f = open('content.txt','r',errors = 'ignore', encoding = 'utf-8')\n",
    "paragraph = f.read()"
   ]
  },
  {
   "cell_type": "code",
   "execution_count": 33,
   "metadata": {},
   "outputs": [
    {
     "data": {
      "text/plain": [
       "'COVID-19 affects different people in different ways. Most infected people will develop mild to moderate illness and recover without hospitalization.\\nMost common symptoms are fever, dry cough, tiredness. Less common symptoms are aches and pains,sore throat, diarrhoea, conjunctivitis, headache, loss of taste or smell, \\na rash on skin, or discolouration of fingers or toes. Serious symptoms includes difficulty breathing or shortness of breath, chest pain or pressure, loss of speech or movement. \\nSeek immediate medical attention if you have serious symptoms. Always call before visiting your doctor or health facility. People who have have mild symptoms and are otherwise healthy, \\nself-isolate and contact your medical provider or a COVID-19 information line for advice. On average it takes 5–6 days from when someone is infected with the virus for symptoms to show, however it can take up to 14 days. \\n\\nThe first case of COVID-19 in India was reported on 30 January 2020. As of 9 July 2020, the Ministry of Health and Family Welfare (MoHFW) has confirmed a total cases of 767,296 cases,\\n476,377 recoveries (including 1 migration) and 21,129 deaths in the country. The number of total confirmed cases breaching the 100,000 mark on 19 May. And total confirmed cases breaching the 200,000 on 3 June. \\nMost affected cities are – Mumbai, Delhi, Ahmedabad, Chennai, Pune and Kolkata. As of 24 May 2020, Lakshadweep is the only region which has not reported a single case. On 22 March, India observed a 14-hour voluntary \\npublic curfew at the instance of the prime minister Narendra Modi. It was followed by mandatory lockdowns in COVID-19 hotspots and all major cities. Further, on 24 March, the Prime Minister ordered a nationwide lockdown\\nfor 21 days. On 14 April, the PM extended the nationwide lockdown till 3 May, which was followed by two-week extensions starting 3 and 17 May with substantial relaxations. Beginning 1 June the Government has started unlocking the country (barring containment zones) in three unlock phases.\\n\\nIf you feel sick you should rest, drink plenty of fluid, and eat nutritious food, Stay in a separate room from other family members, and use a dedicated bathroom if possible, Clean and disinfect frequently touched surfaces.\\nEveryone should keep a healthy lifestyle at home, Maintain a healthy diet, sleep, stay active, and make social contact with loved ones through the phone or internet. Children need extra love and attention from adults during difficult times. \\nKeep to regular routines and schedules as much as possible. It is normal to feel sad, stressed, or confused during a crisis - Talk to people you trust, such as friends and family, can help. If you feel overwhelmed, talk to a health worker or counsellor.\\n\\n\\nTo prevent the spread of COVID-19(Corona) Clean your hands often, Use soap and water, or an alcohol-based hand rub, Maintain a safe distance from anyone who is coughing or sneezing, Wear a mask when physical distancing is not possible, \\nDon’t touch your eyes, nose or mouth, Cover your nose and mouth with your bent elbow or a tissue when you cough or sneeze. Stay home if you feel unwell, If you have a fever, cough and difficulty breathing, seek medical attention.\\nMasks can help prevent the spread of the virus from the person wearing the mask to others, Masks alone do not protect against COVID-19, and should be combined with physical distancing and hand hygiene. Follow the advice provided by your local health authority.'"
      ]
     },
     "execution_count": 33,
     "metadata": {},
     "output_type": "execute_result"
    }
   ],
   "source": [
    "paragraph"
   ]
  },
  {
   "cell_type": "markdown",
   "metadata": {},
   "source": [
    "### Defining the Greetings"
   ]
  },
  {
   "cell_type": "code",
   "execution_count": 34,
   "metadata": {},
   "outputs": [],
   "source": [
    "greetings = ['Hey', 'Hello', 'Hi', 'It’s great to see you', 'Nice to see you', 'Good to see you']\n",
    "bye = ['Bye', 'Bye-Bye', 'Goodbye', 'Have a good day','Stop']\n",
    "thank_you = ['Thanks', 'Thank you', 'Thanks a bunch', 'Thanks a lot.', 'Thank you very much', 'Thanks so much', 'Thank you so much']\n",
    "thank_response = ['You\\'re welcome.' , 'No problem.', 'No worries.', ' My pleasure.' , 'It was the least I could do.', 'Glad to help.']"
   ]
  },
  {
   "cell_type": "markdown",
   "metadata": {},
   "source": [
    "### Pre-processing the raw text"
   ]
  },
  {
   "cell_type": "code",
   "execution_count": 35,
   "metadata": {},
   "outputs": [
    {
     "name": "stderr",
     "output_type": "stream",
     "text": [
      "[nltk_data] Downloading package punkt to\n",
      "[nltk_data]     C:\\Users\\lenovo\\AppData\\Roaming\\nltk_data...\n",
      "[nltk_data]   Package punkt is already up-to-date!\n",
      "[nltk_data] Downloading package wordnet to\n",
      "[nltk_data]     C:\\Users\\lenovo\\AppData\\Roaming\\nltk_data...\n",
      "[nltk_data]   Package wordnet is already up-to-date!\n"
     ]
    }
   ],
   "source": [
    "nltk.download('punkt')   # for first-time use only\n",
    "nltk.download('wordnet')    # for first-time use only\n",
    "\n",
    "\n",
    "sent_tokens = nltk.sent_tokenize(paragraph)\n",
    "word_tokens = nltk.word_tokenize(paragraph)"
   ]
  },
  {
   "cell_type": "code",
   "execution_count": 36,
   "metadata": {},
   "outputs": [
    {
     "data": {
      "text/plain": [
       "['COVID-19 affects different people in different ways.']"
      ]
     },
     "execution_count": 36,
     "metadata": {},
     "output_type": "execute_result"
    }
   ],
   "source": [
    "sent_tokens[:1]"
   ]
  },
  {
   "cell_type": "code",
   "execution_count": 37,
   "metadata": {},
   "outputs": [
    {
     "data": {
      "text/plain": [
       "['COVID-19', 'affects', 'different', 'people', 'in', 'different', 'ways']"
      ]
     },
     "execution_count": 37,
     "metadata": {},
     "output_type": "execute_result"
    }
   ],
   "source": [
    "word_tokens[:7]"
   ]
  },
  {
   "cell_type": "code",
   "execution_count": 38,
   "metadata": {},
   "outputs": [],
   "source": [
    "# Lemmitization\n",
    "\n",
    "lemmer = nltk.stem.WordNetLemmatizer()"
   ]
  },
  {
   "cell_type": "code",
   "execution_count": 39,
   "metadata": {},
   "outputs": [],
   "source": [
    "def LemTokens(tokens):\n",
    "    return [lemmer.lemmatize(token) for token in tokens]    # iterate through every token and lemmatize it"
   ]
  },
  {
   "cell_type": "code",
   "execution_count": 40,
   "metadata": {},
   "outputs": [],
   "source": [
    "# string.punctuation has all the punctuations\n",
    "# ord(punct) convert punctuation to its ASCII value\n",
    "# dict contains {ASCII: None} for punctuation mark\n",
    "\n",
    "remove_punct_dict = dict((ord(punct), None) for punct in string.punctuation)\n",
    "\n",
    "# remove_punct_dict"
   ]
  },
  {
   "cell_type": "code",
   "execution_count": null,
   "metadata": {},
   "outputs": [],
   "source": []
  },
  {
   "cell_type": "code",
   "execution_count": 41,
   "metadata": {},
   "outputs": [],
   "source": [
    "# This will return the word to LemTokens after Word tokenize, lowering its case and removing punctuation mark\n",
    "# translate will find punctuation mark in remove_punct_dict and if found replace it with None\n",
    "\n",
    "def Normalize(text):\n",
    "    return LemTokens(nltk.word_tokenize(text.lower().translate(remove_punct_dict)))\n"
   ]
  },
  {
   "cell_type": "markdown",
   "metadata": {},
   "source": [
    "### Generating Response"
   ]
  },
  {
   "cell_type": "code",
   "execution_count": 42,
   "metadata": {},
   "outputs": [],
   "source": [
    "from sklearn.feature_extraction.text import TfidfVectorizer   # For Tfid Vectorizer\n",
    "from sklearn.metrics.pairwise import cosine_similarity   # For cosine similarity"
   ]
  },
  {
   "cell_type": "code",
   "execution_count": null,
   "metadata": {},
   "outputs": [],
   "source": [
    "def response(user_response):\n",
    "    robo_response = ''\n",
    "    \n",
    "    sent_tokens.append(user_response)   # Appending the Question user ask to sent_tokens\n",
    "    TfidfVec = TfidfVectorizer(tokenizer = Normalize, stop_words='english')    #tokenizer ask about Pre processing and remove StopWords\n",
    "    tfidf = TfidfVec.fit_transform(sent_tokens)\n",
    "\n",
    "    vals = cosine_similarity(tfidf[-1], tfidf)     # vals has [[0,0,3]] Do cosine similarity between last vectors and all the vectors\n",
    "    idx = vals.argsort()[0][-2]     # 0 means 0th list of vals ,it has index of second last index i.e. index of second highest value after sorting the cosine_similarity\n",
    "\n",
    "    flat = vals.flatten()    # [[0,0,3]] -> [0,0,3] this will make a single list of vals which is list inside a list\n",
    "    flat.sort()\n",
    "    req_tfidf = flat[-2]  # this contains tfid value of second highest cosine similarity\n",
    "\n",
    "    if(req_tfidf == 0):    # 0 means there is no similarity between the question and answer\n",
    "        robo_response = robo_response + \"I am sorry! I don't understand you. Please rephrase you query.\"\n",
    "        return robo_response\n",
    "    \n",
    "    else:\n",
    "        robo_response = robo_response + sent_tokens[idx]    # return the sentences at index -2 as answer\n",
    "        return robo_response"
   ]
  },
  {
   "cell_type": "code",
   "execution_count": null,
   "metadata": {},
   "outputs": [],
   "source": [
    "import random\n",
    "\n",
    "def bot_initialize(user_msg):\n",
    "    flag=True\n",
    "    while(flag==True):\n",
    "        user_response = user_msg\n",
    "        if(user_response not in bye):\n",
    "            if(user_response == '/start'):\n",
    "                bot_resp = \"\"\"Hi! There. I am your Corona Protector. I can tell you all the Facts and Figures, Signs and Symptoms related to spread of Covid-19 in India. \\nType Bye to Exit.\"\"\" \n",
    "                return bot_resp\n",
    "            elif(user_response in thank_you):\n",
    "                bot_resp = random.choice(thank_response)\n",
    "                return bot_resp\n",
    "            elif(user_response in greetings):\n",
    "                bot_resp = random.choice(greetings) + \", What information you what related to Covid-19 in India\"\n",
    "                return bot_resp\n",
    "            else:\n",
    "                user_response = user_response.lower()\n",
    "                bot_resp = response(user_response)\n",
    "                sent_tokens.remove(user_response)   # remove user question from sent_token\n",
    "                return bot_resp\n",
    "        else:\n",
    "            flag = False\n",
    "            bot_resp = random.choice(bye)\n",
    "            return bot_resp"
   ]
  },
  {
   "cell_type": "markdown",
   "metadata": {},
   "source": [
    "### Activating Data Driven Telegram Bot"
   ]
  },
  {
   "cell_type": "markdown",
   "metadata": {},
   "source": []
  },
  {
   "cell_type": "code",
   "execution_count": 43,
   "metadata": {},
   "outputs": [],
   "source": [
    "import requests\n",
    "import json\n",
    "\n",
    "class telegram_bot():\n",
    "    def __init__(self):\n",
    "        self.token = \"1245993642:AAGc_EZbIoHag4SXhmx8QaNnpawTcckSCLM\"    #write your token here!\n",
    "        self.url = f\"https://api.telegram.org/bot{self.token}\"\n",
    "\n",
    "    def get_updates(self,offset=None):\n",
    "        url = self.url+\"/getUpdates?timeout=100\"    # In 100 seconds if user input query then process that, use it as the read timeout from the server\n",
    "        if offset:\n",
    "            url = url+f\"&offset={offset+1}\"\n",
    "        url_info = requests.get(url)\n",
    "        return json.loads(url_info.content)\n",
    "\n",
    "    def send_message(self,msg,chat_id):\n",
    "        url = self.url + f\"/sendMessage?chat_id={chat_id}&text={msg}\"\n",
    "        if msg is not None:\n",
    "            requests.get(url)\n",
    "\n",
    "    def grab_token(self):\n",
    "        return tokens"
   ]
  },
  {
   "cell_type": "code",
   "execution_count": 45,
   "metadata": {},
   "outputs": [],
   "source": []
  },
  {
   "cell_type": "code",
   "execution_count": null,
   "metadata": {},
   "outputs": [
    {
     "name": "stdout",
     "output_type": "stream",
     "text": [
      "...\n",
      "[{'update_id': 998276145, 'message': {'message_id': 553, 'from': {'id': 779810422, 'is_bot': False, 'first_name': 'ຸ', 'username': 'shSood', 'language_code': 'en'}, 'chat': {'id': 779810422, 'first_name': 'ຸ', 'username': 'shSood', 'type': 'private'}, 'date': 1596554996, 'text': 'Hi'}}]\n",
      "998276145\n",
      "Hi\n",
      "779810422\n",
      "...\n",
      "...\n",
      "[]\n",
      "...\n",
      "[]\n",
      "...\n",
      "[]\n",
      "...\n"
     ]
    }
   ],
   "source": [
    "tbot = telegram_bot()\n",
    "\n",
    "update_id = None\n",
    "\n",
    "def make_reply(msg):     # user input will go here\n",
    "  \n",
    "    if msg is not None:\n",
    "        reply = bot_initialize(msg)     # user input will start processing from bot_initialize function\n",
    "    return reply\n",
    "       \n",
    "while True:\n",
    "    print(\"...\")\n",
    "    updates = tbot.get_updates(offset=update_id)\n",
    "    updates = updates['result']\n",
    "    print(updates)\n",
    "    if updates:\n",
    "        for item in updates:\n",
    "            update_id = item[\"update_id\"]\n",
    "            print(update_id)\n",
    "            try:\n",
    "                message = item[\"message\"][\"text\"]\n",
    "                print(message)\n",
    "            except:\n",
    "                message = None\n",
    "            from_ = item[\"message\"][\"from\"][\"id\"]\n",
    "            print(from_)\n",
    "\n",
    "            reply = make_reply(message)\n",
    "            tbot.send_message(reply,from_)"
   ]
  },
  {
   "cell_type": "code",
   "execution_count": null,
   "metadata": {},
   "outputs": [],
   "source": []
  }
 ],
 "metadata": {
  "kernelspec": {
   "display_name": "Python 3",
   "language": "python",
   "name": "python3"
  },
  "language_info": {
   "codemirror_mode": {
    "name": "ipython",
    "version": 3
   },
   "file_extension": ".py",
   "mimetype": "text/x-python",
   "name": "python",
   "nbconvert_exporter": "python",
   "pygments_lexer": "ipython3",
   "version": "3.6.10"
  }
 },
 "nbformat": 4,
 "nbformat_minor": 4
}
